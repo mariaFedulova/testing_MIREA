{
  "nbformat": 4,
  "nbformat_minor": 0,
  "metadata": {
    "colab": {
      "provenance": []
    },
    "kernelspec": {
      "name": "python3",
      "display_name": "Python 3"
    },
    "language_info": {
      "name": "python"
    }
  },
  "cells": [
    {
      "cell_type": "code",
      "source": [
        "import doctest"
      ],
      "metadata": {
        "id": "EAyPhigU3sjR"
      },
      "execution_count": null,
      "outputs": []
    },
    {
      "cell_type": "code",
      "source": [
        "import doctest\n",
        "\n",
        "def hyperbola_function(x):\n",
        "  \"\"\"\n",
        "  Given x, return y.\n",
        "  :param x: float\n",
        "  :return: float\n",
        "  >>> hyperbola_function(1)\n",
        "  1.0\n",
        "  >>> hyperbola_function(2)\n",
        "  0.5\n",
        "  >>> hyperbola_function(0)\n",
        "  Traceback (most recent call last):\n",
        "      ...\n",
        "  ZeroDivisionError: 0\n",
        "  \"\"\"\n",
        "\n",
        "  if x == 0:\n",
        "    raise ZeroDivisionError(\"0\")\n",
        "\n",
        "  return 1/x\n",
        "\n",
        "\n",
        "if __name__ == '__main__':\n",
        "\n",
        "  assert hyperbola_function(1) == 1.0, 'Should be 1.0'\n",
        "\n",
        "  doctest.testmod()"
      ],
      "metadata": {
        "id": "nhf3K7HY8nfH"
      },
      "execution_count": null,
      "outputs": []
    },
    {
      "cell_type": "code",
      "execution_count": null,
      "metadata": {
        "colab": {
          "base_uri": "https://localhost:8080/"
        },
        "id": "pp8dsoX22hNd",
        "outputId": "1b33f4f6-1861-4297-9d27-473ff8d28283"
      },
      "outputs": [
        {
          "output_type": "execute_result",
          "data": {
            "text/plain": [
              "TestResults(failed=0, attempted=2)"
            ]
          },
          "metadata": {},
          "execution_count": 13
        }
      ],
      "source": [
        "def hyperbola_function(x):\n",
        "  \"\"\"\n",
        "  Given x, return y.\n",
        "  :param x: float\n",
        "  :return: float\n",
        "  >>> hyperbola_function(1)\n",
        "  1.0\n",
        "  >>> hyperbola_function(2)\n",
        "  0.5\n",
        "  \"\"\"\n",
        "  return 1/x\n",
        "\n",
        "doctest.testmod()"
      ]
    },
    {
      "cell_type": "code",
      "source": [
        "def hyperbola_function(x):\n",
        "  assert x != 0, 'Невозможно деление на 0'\n",
        "  return 1/x\n",
        "\n",
        "print(hyperbola_function(0))"
      ],
      "metadata": {
        "colab": {
          "base_uri": "https://localhost:8080/",
          "height": 297
        },
        "id": "r0wCx5LR_qf3",
        "outputId": "1407d25d-300b-4d63-dec6-e3025b7106e5"
      },
      "execution_count": null,
      "outputs": [
        {
          "output_type": "error",
          "ename": "AssertionError",
          "evalue": "Невозможно деление на 0",
          "traceback": [
            "\u001b[0;31m---------------------------------------------------------------------------\u001b[0m",
            "\u001b[0;31mAssertionError\u001b[0m                            Traceback (most recent call last)",
            "\u001b[0;32m<ipython-input-5-91059fc76e39>\u001b[0m in \u001b[0;36m<cell line: 5>\u001b[0;34m()\u001b[0m\n\u001b[1;32m      3\u001b[0m   \u001b[0;32mreturn\u001b[0m \u001b[0;36m1\u001b[0m\u001b[0;34m/\u001b[0m\u001b[0mx\u001b[0m\u001b[0;34m\u001b[0m\u001b[0;34m\u001b[0m\u001b[0m\n\u001b[1;32m      4\u001b[0m \u001b[0;34m\u001b[0m\u001b[0m\n\u001b[0;32m----> 5\u001b[0;31m \u001b[0mprint\u001b[0m\u001b[0;34m(\u001b[0m\u001b[0mhyperbola_function\u001b[0m\u001b[0;34m(\u001b[0m\u001b[0;36m0\u001b[0m\u001b[0;34m)\u001b[0m\u001b[0;34m)\u001b[0m\u001b[0;34m\u001b[0m\u001b[0;34m\u001b[0m\u001b[0m\n\u001b[0m",
            "\u001b[0;32m<ipython-input-5-91059fc76e39>\u001b[0m in \u001b[0;36mhyperbola_function\u001b[0;34m(x)\u001b[0m\n\u001b[1;32m      1\u001b[0m \u001b[0;32mdef\u001b[0m \u001b[0mhyperbola_function\u001b[0m\u001b[0;34m(\u001b[0m\u001b[0mx\u001b[0m\u001b[0;34m)\u001b[0m\u001b[0;34m:\u001b[0m\u001b[0;34m\u001b[0m\u001b[0;34m\u001b[0m\u001b[0m\n\u001b[0;32m----> 2\u001b[0;31m   \u001b[0;32massert\u001b[0m \u001b[0mx\u001b[0m \u001b[0;34m!=\u001b[0m \u001b[0;36m0\u001b[0m\u001b[0;34m,\u001b[0m \u001b[0;34m'Невозможно деление на 0'\u001b[0m\u001b[0;34m\u001b[0m\u001b[0;34m\u001b[0m\u001b[0m\n\u001b[0m\u001b[1;32m      3\u001b[0m   \u001b[0;32mreturn\u001b[0m \u001b[0;36m1\u001b[0m\u001b[0;34m/\u001b[0m\u001b[0mx\u001b[0m\u001b[0;34m\u001b[0m\u001b[0;34m\u001b[0m\u001b[0m\n\u001b[1;32m      4\u001b[0m \u001b[0;34m\u001b[0m\u001b[0m\n\u001b[1;32m      5\u001b[0m \u001b[0mprint\u001b[0m\u001b[0;34m(\u001b[0m\u001b[0mhyperbola_function\u001b[0m\u001b[0;34m(\u001b[0m\u001b[0;36m0\u001b[0m\u001b[0;34m)\u001b[0m\u001b[0;34m)\u001b[0m\u001b[0;34m\u001b[0m\u001b[0;34m\u001b[0m\u001b[0m\n",
            "\u001b[0;31mAssertionError\u001b[0m: Невозможно деление на 0"
          ]
        }
      ]
    },
    {
      "cell_type": "code",
      "source": [
        "import doctest\n",
        "import unittest\n",
        "\n",
        "def hyperbola_function(x):\n",
        "  \"\"\"\n",
        "  Given x, return y.\n",
        "  :param x: float\n",
        "  :return: float\n",
        "  >>> hyperbola_function(1)\n",
        "  1.0\n",
        "  >>> hyperbola_function(2)\n",
        "  0.5\n",
        "  \"\"\"\n",
        "  return 1/x\n",
        "\n",
        "class TestHyperbolaFunction(unittest.TestCase):\n",
        "\n",
        "    def test_first(self):\n",
        "        self.assertEqual(hyperbola_function(1), 1.0, \"Should be 1.0\")\n",
        "\n",
        "    def test_second(self):\n",
        "        self.assertEqual(hyperbola_function(2), 0.4, \"Should be 0.4\")\n",
        "\n",
        "if __name__ == '__main__':\n",
        "\n",
        "    assert hyperbola_function(1) == 1.0, 'Should be 1.0'\n",
        "\n",
        "    doctest.testmod()\n",
        "\n",
        "    unittest.main()\n"
      ],
      "metadata": {
        "colab": {
          "base_uri": "https://localhost:8080/",
          "height": 297
        },
        "id": "sphB3GUT3-ye",
        "outputId": "c7d8b9de-aacf-4d7b-aad2-2adcab5d4a34"
      },
      "execution_count": null,
      "outputs": [
        {
          "output_type": "stream",
          "name": "stderr",
          "text": [
            "E\n",
            "======================================================================\n",
            "ERROR: /root/ (unittest.loader._FailedTest)\n",
            "----------------------------------------------------------------------\n",
            "AttributeError: module '__main__' has no attribute '/root/'\n",
            "\n",
            "----------------------------------------------------------------------\n",
            "Ran 1 test in 0.002s\n",
            "\n",
            "FAILED (errors=1)\n"
          ]
        },
        {
          "output_type": "error",
          "ename": "SystemExit",
          "evalue": "True",
          "traceback": [
            "An exception has occurred, use %tb to see the full traceback.\n",
            "\u001b[0;31mSystemExit\u001b[0m\u001b[0;31m:\u001b[0m True\n"
          ]
        },
        {
          "output_type": "stream",
          "name": "stderr",
          "text": [
            "/usr/local/lib/python3.10/dist-packages/IPython/core/interactiveshell.py:3561: UserWarning: To exit: use 'exit', 'quit', or Ctrl-D.\n",
            "  warn(\"To exit: use 'exit', 'quit', or Ctrl-D.\", stacklevel=1)\n"
          ]
        }
      ]
    }
  ]
}